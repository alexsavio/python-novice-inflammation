{
 "cells": [
  {
   "cell_type": "markdown",
   "metadata": {
    "slideshow": {
     "slide_type": "slide"
    }
   },
   "source": [
    "# Programming with Python\n",
    "\n",
    "Lund University, Sweden\n",
    "\n",
    "May 26th, 2016"
   ]
  },
  {
   "cell_type": "markdown",
   "metadata": {
    "ExecuteTime": {
     "end_time": "2016-04-30T22:32:57.119548",
     "start_time": "2016-04-30T22:32:57.110617"
    },
    "collapsed": true,
    "slideshow": {
     "slide_type": "slide"
    }
   },
   "source": [
    "# `whoami`\n",
    "\n",
    "## Alexandre Manhães Savio\n",
    "\n",
    "- Department of Nuclear Medicine, Klinikum rechts der Isar, TUM\n",
    "\n",
    "## Contact\n",
    "\n",
    "<i class=\"fa fa-envelope fa-1g\"></i> <a href=\"mailto:alexsavio@gmail.com\">alexsavio@gmail.com</a>\n",
    "\n",
    "<i class=\"fa fa-github fa-1g\"></i> <a href=\"https://github.com/alexsavio/\">alexsavio</a>\n"
   ]
  },
  {
   "cell_type": "markdown",
   "metadata": {
    "slideshow": {
     "slide_type": "slide"
    }
   },
   "source": [
    "# Introduction"
   ]
  },
  {
   "cell_type": "markdown",
   "metadata": {
    "slideshow": {
     "slide_type": "notes"
    }
   },
   "source": [
    "*\"Considering the current state of our computer programs, software development is clearly still a black art, and cannot yet be called an engineering discipline.\"*\n",
    "\n",
    "Bill Clinton"
   ]
  },
  {
   "cell_type": "markdown",
   "metadata": {
    "slideshow": {
     "slide_type": "subslide"
    }
   },
   "source": [
    "## Why Python?"
   ]
  },
  {
   "cell_type": "markdown",
   "metadata": {
    "slideshow": {
     "slide_type": "fragment"
    }
   },
   "source": [
    "1.  we have to use *something* for examples;\n",
    "2.  it's free, well-documented, and runs almost everywhere;\n",
    "3.  it has a large user base among scientists; and\n",
    "4.  experience shows that it's easier for novices to pick up than most other languages."
   ]
  },
  {
   "cell_type": "markdown",
   "metadata": {
    "slideshow": {
     "slide_type": "subslide"
    }
   },
   "source": [
    "The most important things are:"
   ]
  },
  {
   "cell_type": "markdown",
   "metadata": {
    "slideshow": {
     "slide_type": "fragment"
    }
   },
   "source": [
    "- to be able to easily **share** your code with your colleagues and"
   ]
  },
  {
   "cell_type": "markdown",
   "metadata": {
    "slideshow": {
     "slide_type": "fragment"
    }
   },
   "source": [
    "- to learn how to use the language *well*."
   ]
  },
  {
   "cell_type": "markdown",
   "metadata": {
    "slideshow": {
     "slide_type": "fragment"
    }
   },
   "source": [
    "https://docs.python.org/3/"
   ]
  },
  {
   "cell_type": "markdown",
   "metadata": {
    "slideshow": {
     "slide_type": "notes"
    }
   },
   "source": [
    "The best way to learn how to program is to do something useful,\n",
    "so this introduction to Python is built around a common scientific task:\n",
    "data analysis.\n",
    "\n",
    "Our real goal isn't to teach you Python,\n",
    "but to teach you the basic concepts that all programming depends on.\n",
    "We use Python in our lessons because:\n",
    "\n",
    "1.  we have to use *something* for examples;\n",
    "2.  it's free, well-documented, and runs almost everywhere;\n",
    "3.  it has a large (and growing) user base among scientists; and\n",
    "4.  experience shows that it's easier for novices to pick up than most other languages.\n",
    "\n",
    "But the two most important things are\n",
    "to use whatever language your colleagues are using,\n",
    "so that you can share your work with them easily,\n",
    "and to use that language *well*."
   ]
  },
  {
   "cell_type": "markdown",
   "metadata": {
    "slideshow": {
     "slide_type": "slide"
    }
   },
   "source": [
    "## Getting ready"
   ]
  },
  {
   "cell_type": "markdown",
   "metadata": {
    "slideshow": {
     "slide_type": "subslide"
    }
   },
   "source": [
    "### How do I run Python?"
   ]
  },
  {
   "cell_type": "markdown",
   "metadata": {
    "slideshow": {
     "slide_type": "subslide"
    }
   },
   "source": [
    "#### *Starting Python*: Open a terminal and..."
   ]
  },
  {
   "cell_type": "markdown",
   "metadata": {
    "slideshow": {
     "slide_type": "fragment"
    }
   },
   "source": [
    "- **Option 1**: Jupyter notebook\n",
    "  - Type the command: `jupyter notebook`"
   ]
  },
  {
   "cell_type": "markdown",
   "metadata": {
    "slideshow": {
     "slide_type": "fragment"
    }
   },
   "source": [
    "- **Option 2**: IPython\n",
    "   - Type the command: `ipython`"
   ]
  },
  {
   "cell_type": "markdown",
   "metadata": {
    "slideshow": {
     "slide_type": "fragment"
    }
   },
   "source": [
    "- **Option 3**: Python \n",
    "   - Type the command: `python`"
   ]
  },
  {
   "cell_type": "markdown",
   "metadata": {
    "slideshow": {
     "slide_type": "subslide"
    }
   },
   "source": [
    "#### Execute Python code in a file"
   ]
  },
  {
   "cell_type": "markdown",
   "metadata": {
    "slideshow": {
     "slide_type": "subslide"
    }
   },
   "source": [
    "### Filepath concepts\n",
    "\n",
    "- Files and directories\n",
    "- Current (or working) directory"
   ]
  },
  {
   "cell_type": "markdown",
   "metadata": {
    "slideshow": {
     "slide_type": "slide"
    }
   },
   "source": [
    "## Materials "
   ]
  },
  {
   "cell_type": "markdown",
   "metadata": {
    "slideshow": {
     "slide_type": "subslide"
    }
   },
   "source": [
    "### Inflammation data\n",
    "\n",
    "- Daily inflammation of patients under treatment.\n",
    "- The data sets are stored in [comma-separated values](reference.html#comma-separated-values) (CSV) format:\n",
    "    - each row holds information for a single patient and\n",
    "    - the columns represent successive days."
   ]
  },
  {
   "cell_type": "markdown",
   "metadata": {
    "ExecuteTime": {
     "end_time": "2016-05-01T00:52:45.716459",
     "start_time": "2016-05-01T00:52:45.706994"
    },
    "slideshow": {
     "slide_type": "subslide"
    }
   },
   "source": [
    "The first few rows of our first file look like this:\n",
    "\n",
    "~~~\n",
    "0,0,1,3,1,2,4,7,8,3,3,3,10,5,7,4,7,7,12,18,6,13,11,11,7,7,4,6,8,8,4,4,5,7,3,4,2,3,0,0\n",
    "0,1,2,1,2,1,3,2,2,6,10,11,5,9,4,4,7,16,8,6,18,4,12,5,12,7,11,5,11,3,3,5,4,4,5,5,1,1,0,1\n",
    "0,1,1,3,3,2,6,2,5,9,5,7,4,5,4,15,5,11,9,10,19,14,12,17,7,12,11,7,4,2,10,5,4,2,2,3,2,2,1,1\n",
    "0,0,2,0,4,2,2,1,6,7,10,7,9,13,8,8,15,10,10,7,17,4,4,7,6,15,6,4,9,11,3,5,6,3,3,4,2,3,2,1\n",
    "0,1,1,3,3,1,3,5,2,4,4,7,6,5,3,10,8,10,6,17,9,14,9,7,13,9,12,6,7,7,9,6,3,2,2,4,2,0,1,1\n",
    "~~~"
   ]
  },
  {
   "cell_type": "markdown",
   "metadata": {
    "ExecuteTime": {
     "end_time": "2016-04-30T23:00:19.510035",
     "start_time": "2016-04-30T23:00:19.482111"
    },
    "slideshow": {
     "slide_type": "notes"
    }
   },
   "source": [
    "We are studying inflammation in patients who have been given a new treatment for arthritis,\n",
    "and need to analyze the first dozen data sets of their daily inflammation.\n",
    "The data sets are stored in [comma-separated values](reference.html#comma-separated-values) (CSV) format:\n",
    "each row holds information for a single patient,\n",
    "and the columns represent successive days.\n",
    "The first few rows of our first file look like this:\n",
    "\n",
    "~~~\n",
    "0,0,1,3,1,2,4,7,8,3,3,3,10,5,7,4,7,7,12,18,6,13,11,11,7,7,4,6,8,8,4,4,5,7,3,4,2,3,0,0\n",
    "0,1,2,1,2,1,3,2,2,6,10,11,5,9,4,4,7,16,8,6,18,4,12,5,12,7,11,5,11,3,3,5,4,4,5,5,1,1,0,1\n",
    "0,1,1,3,3,2,6,2,5,9,5,7,4,5,4,15,5,11,9,10,19,14,12,17,7,12,11,7,4,2,10,5,4,2,2,3,2,2,1,1\n",
    "0,0,2,0,4,2,2,1,6,7,10,7,9,13,8,8,15,10,10,7,17,4,4,7,6,15,6,4,9,11,3,5,6,3,3,4,2,3,2,1\n",
    "0,1,1,3,3,1,3,5,2,4,4,7,6,5,3,10,8,10,6,17,9,14,9,7,13,9,12,6,7,7,9,6,3,2,2,4,2,0,1,1\n",
    "~~~"
   ]
  },
  {
   "cell_type": "markdown",
   "metadata": {
    "slideshow": {
     "slide_type": "subslide"
    }
   },
   "source": [
    "We want to:\n",
    "\n",
    "*   load that data into memory,\n",
    "*   calculate the average inflammation per day across all patients, and\n",
    "*   plot the result.\n",
    "\n",
    "To do all that, we'll have to learn a little bit about programming."
   ]
  },
  {
   "cell_type": "markdown",
   "metadata": {
    "slideshow": {
     "slide_type": "subslide"
    }
   },
   "source": [
    "### Download the data\n",
    "\n",
    "1. Make a new folder in your Desktop called `python-novice-inflammation`.\n",
    "2. Go to https://github.com/swcarpentry/python-novice-inflammation.\n",
    "3. Download [python-novice-inflammation-data.zip](./python-novice-inflammation-data.zip).\n",
    "5. You can access this folder from the Unix shell with:\n",
    "~~~ {.input}\n",
    "$ cd && cd Desktop/python-novice-inflammation/data\n",
    "~~~\n",
    "\n",
    "https://github.com/swcarpentry/python-novice-inflammation/blob/gh-pages/python-novice-inflammation-data.zip\n"
   ]
  },
  {
   "cell_type": "code",
   "execution_count": 17,
   "metadata": {
    "ExecuteTime": {
     "end_time": "2016-05-01T00:03:47.285630",
     "start_time": "2016-05-01T00:03:46.178628"
    },
    "collapsed": false,
    "slideshow": {
     "slide_type": "skip"
    }
   },
   "outputs": [
    {
     "name": "stdout",
     "output_type": "stream",
     "text": [
      "  % Total    % Received % Xferd  Average Speed   Time    Time     Time  Current\n",
      "                                 Dload  Upload   Total   Spent    Left  Speed\n",
      "100 22554  100 22554    0     0  22976      0 --:--:-- --:--:-- --:--:-- 22967\n"
     ]
    }
   ],
   "source": [
    "!curl --header 'Host: raw.githubusercontent.com' --header 'User-Agent: Mozilla/5.0 (Macintosh; Intel Mac OS X 10.11; rv:45.0) Gecko/20100101 Firefox/45.0' --header 'Accept: text/html,application/xhtml+xml,application/xml;q=0.9,*/*;q=0.8' --header 'Accept-Language: en-GB,en;q=0.5' --header 'Referer: https://github.com/swcarpentry/python-novice-inflammation/blob/gh-pages/python-novice-inflammation-data.zip' --header 'Connection: keep-alive' 'https://raw.githubusercontent.com/swcarpentry/python-novice-inflammation/gh-pages/python-novice-inflammation-data.zip' -o 'python-novice-inflammation-data.zip' -L\n",
    "!unzip -o 'python-novice-inflammation-data.zip'"
   ]
  },
  {
   "cell_type": "markdown",
   "metadata": {
    "collapsed": true,
    "slideshow": {
     "slide_type": "subslide"
    }
   },
   "source": [
    "1. [Analyzing the data](01-numpy.ipynb)\n",
    "\n",
    "2. [Repeating Actions with Loops](02-loop.ipynb)\n",
    "\n",
    "3. [Storing Multiple Values in Lists](03-lists.ipynb)\n",
    "\n",
    "4. [Analyzing Data from Multiple Files](04-files.ipynb)\n",
    "\n",
    "5. [Making Choices](05-cond.ipynb)\n",
    "\n",
    "6. [Creating Functions](06-func.ipynb)\n",
    "\n",
    "7. [Errors and Exceptions](07-errors.ipynb)\n",
    "\n",
    "8. [Defensive programming](08-defensive.ipynb)\n",
    "\n",
    "9. [Debugging](09-debugging.ipynb)\n",
    "\n",
    "10. [Command line](10-cmdline.ipynb)"
   ]
  },
  {
   "cell_type": "code",
   "execution_count": null,
   "metadata": {
    "collapsed": true
   },
   "outputs": [],
   "source": []
  }
 ],
 "metadata": {
  "celltoolbar": "Slideshow",
  "kernelspec": {
   "display_name": "Python 3",
   "language": "python",
   "name": "python3"
  },
  "language_info": {
   "codemirror_mode": {
    "name": "ipython",
    "version": 3
   },
   "file_extension": ".py",
   "mimetype": "text/x-python",
   "name": "python",
   "nbconvert_exporter": "python",
   "pygments_lexer": "ipython3",
   "version": "3.5.1"
  },
  "latex_envs": {
   "bibliofile": "biblio.bib",
   "cite_by": "apalike",
   "current_citInitial": 1,
   "eqLabelWithNumbers": true,
   "eqNumInitial": 0
  },
  "toc": {
   "toc_cell": false,
   "toc_number_sections": false,
   "toc_section_display": "none",
   "toc_threshold": 6,
   "toc_window_display": true
  },
  "toc_position": {
   "height": "310px",
   "left": "1081.85px",
   "right": "10.15px",
   "top": "18px",
   "width": "188px"
  }
 },
 "nbformat": 4,
 "nbformat_minor": 0
}
