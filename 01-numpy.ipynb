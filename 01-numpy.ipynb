{
 "cells": [
  {
   "cell_type": "markdown",
   "metadata": {
    "slideshow": {
     "slide_type": "slide"
    }
   },
   "source": [
    "# Analyzing Patient Data\n",
    "\n",
    "Making sense of the data."
   ]
  },
  {
   "cell_type": "markdown",
   "metadata": {
    "slideshow": {
     "slide_type": "subslide"
    }
   },
   "source": [
    "## `import numpy`\n",
    "\n",
    "To load the .CSV data we will use a library called Numpy."
   ]
  },
  {
   "cell_type": "markdown",
   "metadata": {
    "slideshow": {
     "slide_type": "notes"
    }
   },
   "source": [
    "In order to load our inflammation data,\n",
    "we need to [import](reference.html#import) a library called NumPy.\n",
    "In general you should use this library if you want to do fancy things with numbers,\n",
    "especially if you have matrices or arrays.\n",
    "We can load NumPy using:"
   ]
  },
  {
   "cell_type": "code",
   "execution_count": 1,
   "metadata": {
    "ExecuteTime": {
     "end_time": "2016-05-01T01:16:14.358237",
     "start_time": "2016-05-01T01:16:14.349813"
    },
    "collapsed": true,
    "slideshow": {
     "slide_type": "fragment"
    }
   },
   "outputs": [],
   "source": [
    "import numpy"
   ]
  },
  {
   "cell_type": "markdown",
   "metadata": {
    "slideshow": {
     "slide_type": "notes"
    }
   },
   "source": [
    "Importing a library is like getting a piece of lab equipment out of a storage locker\n",
    "and setting it up on the bench. Libraries provide additional functionality to the basic Python package, much like a new piece of equipment adds functionality to a lab space."
   ]
  },
  {
   "cell_type": "markdown",
   "metadata": {
    "slideshow": {
     "slide_type": "subslide"
    }
   },
   "source": [
    "### Once you've loaded the library ...\n",
    "\n",
    "We can ask the library to read our data file for us:"
   ]
  },
  {
   "cell_type": "code",
   "execution_count": 2,
   "metadata": {
    "ExecuteTime": {
     "end_time": "2016-05-01T01:22:38.390296",
     "start_time": "2016-05-01T01:22:38.357350"
    },
    "collapsed": false,
    "slideshow": {
     "slide_type": "fragment"
    }
   },
   "outputs": [
    {
     "data": {
      "text/plain": [
       "array([[ 0.,  0.,  1., ...,  3.,  0.,  0.],\n",
       "       [ 0.,  1.,  2., ...,  1.,  0.,  1.],\n",
       "       [ 0.,  1.,  1., ...,  2.,  1.,  1.],\n",
       "       ..., \n",
       "       [ 0.,  1.,  1., ...,  1.,  1.,  1.],\n",
       "       [ 0.,  0.,  0., ...,  0.,  2.,  0.],\n",
       "       [ 0.,  0.,  1., ...,  1.,  1.,  0.]])"
      ]
     },
     "execution_count": 2,
     "metadata": {},
     "output_type": "execute_result"
    }
   ],
   "source": [
    "numpy.loadtxt(fname='data/inflammation-01.csv', delimiter=',')"
   ]
  },
  {
   "cell_type": "markdown",
   "metadata": {
    "slideshow": {
     "slide_type": "notes"
    }
   },
   "source": [
    "\n",
    "The expression `numpy.loadtxt(...)` is a [function call](reference.html#function-call)\n",
    "that asks Python to run the function `loadtxt` that belongs to the `numpy` library.\n",
    "This [dotted notation](reference.html#dotted-notation) is used everywhere in Python\n",
    "to refer to the parts of things as `thing.component`.\n",
    "\n",
    "`numpy.loadtxt` has two [parameters](reference.html#parameter):\n",
    "the name of the file we want to read,\n",
    "and the [delimiter](reference.html#delimiter) that separates values on a line.\n",
    "These both need to be character strings (or [strings](reference.html#string) for short),\n",
    "so we put them in quotes."
   ]
  },
  {
   "cell_type": "markdown",
   "metadata": {
    "slideshow": {
     "slide_type": "notes"
    }
   },
   "source": [
    "When we are finished typing and press Shift+Enter,\n",
    "the notebook runs our command.\n",
    "Since we haven't told it to do anything else with the function's output,\n",
    "the notebook displays it.\n",
    "In this case,\n",
    "that output is the data we just loaded.\n",
    "By default,\n",
    "only a few rows and columns are shown\n",
    "(with `...` to omit elements when displaying big arrays).\n",
    "To save space,\n",
    "Python displays numbers as `1.` instead of `1.0`\n",
    "when there's nothing interesting after the decimal point.\n",
    "\n",
    "Our call to `numpy.loadtxt` read our file,\n",
    "but didn't save the data in memory.\n",
    "To do that,\n",
    "we need to [assign](reference.html#assignment) the array to a [variable](reference.html#variable).\n",
    "A variable is just a name for a value,\n",
    "such as `x`, `current_temperature`, or `subject_id`.\n",
    "Python's variables must begin with a letter and are [case sensitive](reference.html#case-sensitive).\n",
    "We can create a new variable by assigning a value to it using `=`.\n",
    "As an illustration,\n",
    "let's step back and instead of considering a table of data,\n",
    "consider the simplest \"collection\" of data,\n",
    "a single value.\n",
    "The line below assigns the value `55` to a variable `weight_kg`:"
   ]
  },
  {
   "cell_type": "markdown",
   "metadata": {
    "slideshow": {
     "slide_type": "subslide"
    }
   },
   "source": [
    "### Variables"
   ]
  },
  {
   "cell_type": "markdown",
   "metadata": {
    "slideshow": {
     "slide_type": "fragment"
    }
   },
   "source": [
    "#### The symbol \"`=`\"\n",
    "\n",
    "We can create a new variable by assigning a value to it using \"`=`\".\n",
    "\n",
    "Python's variables must begin with a letter and are case sensitive.\n"
   ]
  },
  {
   "cell_type": "code",
   "execution_count": 8,
   "metadata": {
    "ExecuteTime": {
     "end_time": "2016-05-01T22:23:12.055527",
     "start_time": "2016-05-01T22:23:12.047940"
    },
    "collapsed": false,
    "slideshow": {
     "slide_type": "fragment"
    }
   },
   "outputs": [
    {
     "name": "stdout",
     "output_type": "stream",
     "text": [
      "54\n"
     ]
    }
   ],
   "source": [
    "weight_kg = 54\n",
    "print(weight_kg)"
   ]
  },
  {
   "cell_type": "markdown",
   "metadata": {
    "ExecuteTime": {
     "end_time": "2016-05-01T22:23:13.255799",
     "start_time": "2016-05-01T22:23:13.247928"
    },
    "slideshow": {
     "slide_type": "subslide"
    }
   },
   "source": [
    "#### Once a variable has a value we can:"
   ]
  },
  {
   "cell_type": "code",
   "execution_count": 9,
   "metadata": {
    "ExecuteTime": {
     "end_time": "2016-05-01T22:23:39.393255",
     "start_time": "2016-05-01T22:23:39.383875"
    },
    "collapsed": false,
    "slideshow": {
     "slide_type": "fragment"
    }
   },
   "outputs": [
    {
     "name": "stdout",
     "output_type": "stream",
     "text": [
      "54\n"
     ]
    }
   ],
   "source": [
    "# print it\n",
    "print(weight_kg)"
   ]
  },
  {
   "cell_type": "code",
   "execution_count": 10,
   "metadata": {
    "ExecuteTime": {
     "end_time": "2016-05-01T22:23:39.976554",
     "start_time": "2016-05-01T22:23:39.968137"
    },
    "collapsed": false,
    "slideshow": {
     "slide_type": "fragment"
    }
   },
   "outputs": [
    {
     "name": "stdout",
     "output_type": "stream",
     "text": [
      "weight in pounds: 118.80000000000001\n"
     ]
    }
   ],
   "source": [
    "# do arithmetic with it:\n",
    "print('weight in pounds:', 2.2 * weight_kg) "
   ]
  },
  {
   "cell_type": "code",
   "execution_count": 12,
   "metadata": {
    "ExecuteTime": {
     "end_time": "2016-05-01T22:23:41.384842",
     "start_time": "2016-05-01T22:23:41.376851"
    },
    "collapsed": false,
    "slideshow": {
     "slide_type": "fragment"
    }
   },
   "outputs": [
    {
     "name": "stdout",
     "output_type": "stream",
     "text": [
      "weight in kilograms is now: 58\n"
     ]
    }
   ],
   "source": [
    "# change its value\n",
    "weight_kg = 58\n",
    "print('weight in kilograms is now:', weight_kg)"
   ]
  },
  {
   "cell_type": "markdown",
   "metadata": {
    "slideshow": {
     "slide_type": "subslide"
    }
   },
   "source": [
    "Assigning a value to one variable does *not* change the values of other variables."
   ]
  },
  {
   "cell_type": "markdown",
   "metadata": {
    "slideshow": {
     "slide_type": "fragment"
    }
   },
   "source": [
    "![Variables as Sticky Notes](fig/python-sticky-note-variables-01.svg)"
   ]
  },
  {
   "cell_type": "code",
   "execution_count": 15,
   "metadata": {
    "ExecuteTime": {
     "end_time": "2016-05-01T22:24:55.473333",
     "start_time": "2016-05-01T22:24:55.466087"
    },
    "collapsed": false,
    "slideshow": {
     "slide_type": "fragment"
    }
   },
   "outputs": [
    {
     "name": "stdout",
     "output_type": "stream",
     "text": [
      "weight in kilograms: 100.0 and in pounds: 220.00000000000003\n"
     ]
    }
   ],
   "source": [
    "weight_lb = 2.2 * weight_kg\n",
    "print('weight in kilograms:', weight_kg, \n",
    "      'and in pounds:', weight_lb)"
   ]
  },
  {
   "cell_type": "code",
   "execution_count": 17,
   "metadata": {
    "ExecuteTime": {
     "end_time": "2016-05-01T22:26:38.317864",
     "start_time": "2016-05-01T22:26:38.310213"
    },
    "collapsed": false,
    "slideshow": {
     "slide_type": "fragment"
    }
   },
   "outputs": [
    {
     "name": "stdout",
     "output_type": "stream",
     "text": [
      "weight in kilograms is now: 100 and weight in pounds is still: 220.00000000000003\n"
     ]
    }
   ],
   "source": [
    "weight_kg = 100\n",
    "print('weight in kilograms is now:', weight_kg, \n",
    "      'and weight in pounds is still:', weight_lb)"
   ]
  },
  {
   "cell_type": "markdown",
   "metadata": {
    "slideshow": {
     "slide_type": "subslide"
    }
   },
   "source": [
    "### `whos`\n",
    "\n",
    "In IPython the `whos` command shows the variables in memory."
   ]
  },
  {
   "cell_type": "code",
   "execution_count": 18,
   "metadata": {
    "ExecuteTime": {
     "end_time": "2016-05-01T22:40:07.494482",
     "start_time": "2016-05-01T22:40:07.481639"
    },
    "collapsed": false,
    "slideshow": {
     "slide_type": "fragment"
    }
   },
   "outputs": [
    {
     "name": "stdout",
     "output_type": "stream",
     "text": [
      "Variable    Type      Data/Info\n",
      "-------------------------------\n",
      "numpy       module    <module 'numpy' from '/Us<...>kages/numpy/__init__.py'>\n",
      "weight_kg   int       100\n",
      "weight_lb   float     220.00000000000003\n"
     ]
    }
   ],
   "source": [
    "whos"
   ]
  },
  {
   "cell_type": "markdown",
   "metadata": {
    "slideshow": {
     "slide_type": "slide"
    }
   },
   "source": [
    "### Check your understanding {.challenge}\n",
    "\n",
    "Draw diagrams showing what variables refer to what values after each statement in the following program:"
   ]
  },
  {
   "cell_type": "code",
   "execution_count": 19,
   "metadata": {
    "collapsed": true,
    "slideshow": {
     "slide_type": "fragment"
    }
   },
   "outputs": [],
   "source": [
    "mass = 47.5\n",
    "age = 122\n",
    "mass = mass * 2.0\n",
    "age = age - 20"
   ]
  },
  {
   "cell_type": "markdown",
   "metadata": {
    "slideshow": {
     "slide_type": "subslide"
    }
   },
   "source": [
    "Draw a table showing the values of the variables in this program after each statement is executed. In simple terms, what do the last three lines of this program do?"
   ]
  },
  {
   "cell_type": "code",
   "execution_count": 22,
   "metadata": {
    "collapsed": false,
    "slideshow": {
     "slide_type": "fragment"
    }
   },
   "outputs": [
    {
     "name": "stdout",
     "output_type": "stream",
     "text": [
      "1.0\n"
     ]
    }
   ],
   "source": [
    "lowest = 1.0\n",
    "highest = 3.0\n",
    "low "
   ]
  },
  {
   "cell_type": "markdown",
   "metadata": {
    "slideshow": {
     "slide_type": "subslide"
    }
   },
   "source": [
    "What is the final value of position in the program below? (Try to predict the value without running the program, then check your prediction.)"
   ]
  },
  {
   "cell_type": "code",
   "execution_count": 23,
   "metadata": {
    "collapsed": false,
    "slideshow": {
     "slide_type": "fragment"
    }
   },
   "outputs": [
    {
     "name": "stdout",
     "output_type": "stream",
     "text": [
      "left\n"
     ]
    }
   ],
   "source": [
    "initial = \"left\"\n",
    "position = initial\n",
    "initial = \"right\"\n",
    "\n",
    "print(position)"
   ]
  },
  {
   "cell_type": "markdown",
   "metadata": {
    "slideshow": {
     "slide_type": "subslide"
    }
   },
   "source": [
    "## Sorting out references {.challenge}\n",
    "\n",
    "What does the following program print out?"
   ]
  },
  {
   "cell_type": "code",
   "execution_count": 24,
   "metadata": {
    "collapsed": false,
    "slideshow": {
     "slide_type": "fragment"
    }
   },
   "outputs": [
    {
     "name": "stdout",
     "output_type": "stream",
     "text": [
      "Hopper Grace\n"
     ]
    }
   ],
   "source": [
    "first, second = 'Grace', 'Hopper'\n",
    "\n",
    "third, fourth = second, first\n",
    "\n",
    "print(third, fourth)"
   ]
  },
  {
   "cell_type": "markdown",
   "metadata": {
    "slideshow": {
     "slide_type": "slide"
    }
   },
   "source": [
    "### Assign arrays\n",
    "\n",
    "Just as we can assign a single value to a variable, we can also assign an array of values:"
   ]
  },
  {
   "cell_type": "code",
   "execution_count": 25,
   "metadata": {
    "ExecuteTime": {
     "end_time": "2016-05-01T22:49:37.475392",
     "start_time": "2016-05-01T22:49:37.461207"
    },
    "collapsed": false,
    "slideshow": {
     "slide_type": "fragment"
    }
   },
   "outputs": [],
   "source": [
    "data = numpy.loadtxt(fname='data/inflammation-01.csv', \n",
    "                     delimiter=',')"
   ]
  },
  {
   "cell_type": "markdown",
   "metadata": {
    "slideshow": {
     "slide_type": "notes"
    }
   },
   "source": [
    "This statement doesn't produce any output because assignment doesn't display anything.\n",
    "If we want to check that our data has been loaded,\n",
    "we can print the variable's value:"
   ]
  },
  {
   "cell_type": "code",
   "execution_count": 26,
   "metadata": {
    "ExecuteTime": {
     "end_time": "2016-05-01T22:48:45.500233",
     "start_time": "2016-05-01T22:48:45.491795"
    },
    "collapsed": false,
    "slideshow": {
     "slide_type": "fragment"
    }
   },
   "outputs": [
    {
     "name": "stdout",
     "output_type": "stream",
     "text": [
      "[[ 0.  0.  1. ...,  3.  0.  0.]\n",
      " [ 0.  1.  2. ...,  1.  0.  1.]\n",
      " [ 0.  1.  1. ...,  2.  1.  1.]\n",
      " ..., \n",
      " [ 0.  1.  1. ...,  1.  1.  1.]\n",
      " [ 0.  0.  0. ...,  0.  2.  0.]\n",
      " [ 0.  0.  1. ...,  1.  1.  0.]]\n"
     ]
    }
   ],
   "source": [
    "print(data)"
   ]
  },
  {
   "cell_type": "code",
   "execution_count": 29,
   "metadata": {
    "ExecuteTime": {
     "end_time": "2016-05-01T22:49:45.738529",
     "start_time": "2016-05-01T22:49:45.730970"
    },
    "collapsed": false,
    "slideshow": {
     "slide_type": "subslide"
    }
   },
   "outputs": [
    {
     "name": "stdout",
     "output_type": "stream",
     "text": [
      "<class 'numpy.ndarray'>\n"
     ]
    }
   ],
   "source": [
    "# what type is the data\n",
    "print(type(data))"
   ]
  },
  {
   "cell_type": "markdown",
   "metadata": {
    "slideshow": {
     "slide_type": "notes"
    }
   },
   "source": [
    "The output tells us that `data` currently refers to an N-dimensional array created by the NumPy library. These data correspond to arthritis patients' inflammation. \n",
    "\n",
    "The rows are the individual patients and the columns are their daily inflammation measurements.\n",
    "\n",
    "We can see what its [shape](reference.html#shape) is like this:"
   ]
  },
  {
   "cell_type": "code",
   "execution_count": 30,
   "metadata": {
    "ExecuteTime": {
     "end_time": "2016-05-01T22:50:45.845206",
     "start_time": "2016-05-01T22:50:45.837519"
    },
    "collapsed": false,
    "slideshow": {
     "slide_type": "fragment"
    }
   },
   "outputs": [
    {
     "name": "stdout",
     "output_type": "stream",
     "text": [
      "(60, 40)\n"
     ]
    }
   ],
   "source": [
    "print(data.shape)"
   ]
  },
  {
   "cell_type": "markdown",
   "metadata": {
    "slideshow": {
     "slide_type": "notes"
    }
   },
   "source": [
    "This tells us that `data` has 60 rows and 40 columns. When we created the\n",
    "variable `data` to store our arthritis data, we didn't just create the array, we also\n",
    "created information about the array, called [members](reference.html#member) or\n",
    "attributes. This extra information describes `data` in\n",
    "the same way an adjective describes a noun.\n",
    "`data.shape` is an attribute  of `data` which described the dimensions of `data`.\n",
    "We use the same dotted notation for the attributes of variables\n",
    "that we use for the functions in libraries\n",
    "because they have the same part-and-whole relationship.\n",
    "\n",
    "If we want to get a single number from the array,\n",
    "we must provide an [index](reference.html#index) in square brackets,\n",
    "just as we do in math:"
   ]
  },
  {
   "cell_type": "markdown",
   "metadata": {
    "slideshow": {
     "slide_type": "subslide"
    }
   },
   "source": [
    "### Indexing"
   ]
  },
  {
   "cell_type": "code",
   "execution_count": 32,
   "metadata": {
    "ExecuteTime": {
     "end_time": "2016-05-01T23:01:07.374469",
     "start_time": "2016-05-01T23:01:07.366981"
    },
    "collapsed": false,
    "slideshow": {
     "slide_type": "fragment"
    }
   },
   "outputs": [
    {
     "name": "stdout",
     "output_type": "stream",
     "text": [
      "first value in data: 0.0\n"
     ]
    }
   ],
   "source": [
    "print('first value in data:', data[0, 1])"
   ]
  },
  {
   "cell_type": "code",
   "execution_count": 33,
   "metadata": {
    "ExecuteTime": {
     "end_time": "2016-05-01T23:01:27.087372",
     "start_time": "2016-05-01T23:01:27.079876"
    },
    "collapsed": false,
    "slideshow": {
     "slide_type": "fragment"
    }
   },
   "outputs": [
    {
     "name": "stdout",
     "output_type": "stream",
     "text": [
      "middle value in data: 13.0\n"
     ]
    }
   ],
   "source": [
    "print('middle value in data:', data[30, 20])"
   ]
  },
  {
   "cell_type": "markdown",
   "metadata": {
    "slideshow": {
     "slide_type": "notes"
    }
   },
   "source": [
    "The expression `data[30, 20]` may not surprise you,\n",
    "but `data[0, 0]` might.\n",
    "Programming languages like Fortran and MATLAB start counting at 1,\n",
    "because that's what human beings have done for thousands of years.\n",
    "\n",
    "Languages in the C family (including C++, Java, Perl, and Python) count from 0\n",
    "because that's simpler for computers to do.\n",
    "\n",
    "As a result,\n",
    "if we have an M&times;N array in Python,\n",
    "its indices go from 0 to M-1 on the first axis\n",
    "and 0 to N-1 on the second.\n",
    "\n",
    "It takes a bit of getting used to,\n",
    "but one way to remember the rule is that\n",
    "the index is how many steps we have to take from the start to get the item we want."
   ]
  },
  {
   "cell_type": "markdown",
   "metadata": {
    "slideshow": {
     "slide_type": "subslide"
    }
   },
   "source": [
    "### Slicing"
   ]
  },
  {
   "cell_type": "markdown",
   "metadata": {
    "slideshow": {
     "slide_type": "notes"
    }
   },
   "source": [
    "An index like `[30, 20]` selects a single element of an array,\n",
    "but we can select whole sections as well.\n",
    "\n",
    "For example,\n",
    "we can select the first ten days (columns) of values\n",
    "for the first four patients (rows) like this:\n"
   ]
  },
  {
   "cell_type": "code",
   "execution_count": 36,
   "metadata": {
    "ExecuteTime": {
     "end_time": "2016-05-01T23:03:30.622165",
     "start_time": "2016-05-01T23:03:30.613034"
    },
    "collapsed": false,
    "slideshow": {
     "slide_type": "fragment"
    }
   },
   "outputs": [
    {
     "name": "stdout",
     "output_type": "stream",
     "text": [
      "[[ 0.  0.  1.  3.  1.  2.  4.  7.  8.  3.]\n",
      " [ 0.  1.  2.  1.  2.  1.  3.  2.  2.  6.]\n",
      " [ 0.  1.  1.  3.  3.  2.  6.  2.  5.  9.]\n",
      " [ 0.  0.  2.  0.  4.  2.  2.  1.  6.  7.]]\n"
     ]
    }
   ],
   "source": [
    "print(data[0:4, 0:10])"
   ]
  },
  {
   "cell_type": "markdown",
   "metadata": {
    "slideshow": {
     "slide_type": "fragment"
    }
   },
   "source": [
    "#### What does `0:4` mean?\n",
    "\n",
    "- Start at `0` and go up to, but not including, `4`.\n",
    "- **The rule**: difference between the upper and lower bounds is the number of values in the slice."
   ]
  },
  {
   "cell_type": "markdown",
   "metadata": {
    "slideshow": {
     "slide_type": "notes"
    }
   },
   "source": [
    "The [slice](reference.html#slice) `0:4` means,\n",
    "\"Start at index 0 and go up to, but not including, index 4.\"\n",
    "\n",
    "Again,\n",
    "the up-to-but-not-including takes a bit of getting used to,\n",
    "but the rule is that the difference between the upper and lower bounds is the number of values in the slice."
   ]
  },
  {
   "cell_type": "markdown",
   "metadata": {
    "slideshow": {
     "slide_type": "subslide"
    }
   },
   "source": [
    "We don't have to start slices at 0:"
   ]
  },
  {
   "cell_type": "code",
   "execution_count": 65,
   "metadata": {
    "ExecuteTime": {
     "end_time": "2016-05-01T23:05:11.355979",
     "start_time": "2016-05-01T23:05:11.347020"
    },
    "collapsed": false,
    "slideshow": {
     "slide_type": "fragment"
    }
   },
   "outputs": [
    {
     "name": "stdout",
     "output_type": "stream",
     "text": [
      "(8, 10)\n"
     ]
    }
   ],
   "source": [
    "print(data[2:10, 0:10].shape)"
   ]
  },
  {
   "cell_type": "markdown",
   "metadata": {
    "slideshow": {
     "slide_type": "notes"
    }
   },
   "source": [
    "We also don't have to include the upper and lower bound on the slice.\n",
    "\n",
    "If we don't include the lower bound, Python uses 0 by default;\n",
    "\n",
    "if we don't include the upper, the slice runs to the end of the axis, and if we don't include either (i.e., if we just use ':' on its own), the slice includes everything:"
   ]
  },
  {
   "cell_type": "code",
   "execution_count": 48,
   "metadata": {
    "ExecuteTime": {
     "end_time": "2016-05-03T20:21:53.745766",
     "start_time": "2016-05-03T20:21:53.709059"
    },
    "collapsed": false,
    "slideshow": {
     "slide_type": "subslide"
    }
   },
   "outputs": [
    {
     "name": "stdout",
     "output_type": "stream",
     "text": [
      "[[ 2.  3.  0.  0.]\n",
      " [ 1.  1.  0.  1.]\n",
      " [ 2.  2.  1.  1.]]\n",
      "[]\n"
     ]
    }
   ],
   "source": [
    "small = data[:3, 36:]\n",
    "print(small) \n",
    "\n",
    "print(small[:3, 38:49])"
   ]
  },
  {
   "cell_type": "markdown",
   "metadata": {
    "slideshow": {
     "slide_type": "slide"
    }
   },
   "source": [
    "## Slicing strings {.challenge}\n",
    "\n",
    "A section of an array is called a [slice](reference.html#slice).\n",
    "We can take slices of character strings as well:"
   ]
  },
  {
   "cell_type": "code",
   "execution_count": 60,
   "metadata": {
    "collapsed": false,
    "slideshow": {
     "slide_type": "fragment"
    }
   },
   "outputs": [
    {
     "name": "stdout",
     "output_type": "stream",
     "text": [
      "first three characters: oxy\n",
      "last three characters: gen\n",
      "example \n"
     ]
    }
   ],
   "source": [
    "element = 'oxygen'\n",
    "print('first three characters:', element[0:3])\n",
    "print('last three characters:', element[3:6])\n",
    "print('example', element[:])"
   ]
  },
  {
   "cell_type": "markdown",
   "metadata": {
    "slideshow": {
     "slide_type": "fragment"
    }
   },
   "source": [
    "What is the value of `element[:4]`?\n",
    "What about `element[4:]`?\n",
    "Or `element[:]`?\n",
    "\n",
    "What is `element[-1]`?\n",
    "What is `element[-2]`?\n",
    "\n",
    "Given those answers,\n",
    "explain what `element[1:-1]` does."
   ]
  },
  {
   "cell_type": "markdown",
   "metadata": {
    "slideshow": {
     "slide_type": "subslide"
    }
   },
   "source": [
    "## Thin slices {.challenge}\n",
    "\n",
    "The expression `element[3:3]` produces an [empty string](reference.html#empty-string), i.e., a string that contains no characters.\n",
    "\n",
    "If `data` holds our array of patient data, what does `data[3:3, 4:4]` produce? What about `data[3:3, :]`?"
   ]
  },
  {
   "cell_type": "code",
   "execution_count": 62,
   "metadata": {
    "collapsed": false,
    "slideshow": {
     "slide_type": "fragment"
    }
   },
   "outputs": [
    {
     "data": {
      "text/plain": [
       "array([], shape=(0, 40), dtype=float64)"
      ]
     },
     "execution_count": 62,
     "metadata": {},
     "output_type": "execute_result"
    }
   ],
   "source": [
    "data[3:3, :]"
   ]
  },
  {
   "cell_type": "markdown",
   "metadata": {
    "slideshow": {
     "slide_type": "slide"
    }
   },
   "source": [
    "## Looking for help"
   ]
  },
  {
   "cell_type": "code",
   "execution_count": 69,
   "metadata": {
    "collapsed": false,
    "slideshow": {
     "slide_type": "fragment"
    }
   },
   "outputs": [],
   "source": [
    "numpy.loadtxt?"
   ]
  },
  {
   "cell_type": "markdown",
   "metadata": {
    "slideshow": {
     "slide_type": "slide"
    }
   },
   "source": [
    "### Arithmetical operations\n",
    "\n",
    "How to perform common mathematical operations on their values?"
   ]
  },
  {
   "cell_type": "markdown",
   "metadata": {
    "slideshow": {
     "slide_type": "notes"
    }
   },
   "source": [
    "Arrays also know how to perform common mathematical operations on their values.\n",
    "\n",
    "The simplest operations with data are arithmetic:\n",
    "add, subtract, multiply, and divide.\n",
    "\n",
    "When you do such operations on arrays, the operation is done on each individual element of the array.\n",
    "\n",
    "Thus:"
   ]
  },
  {
   "cell_type": "markdown",
   "metadata": {
    "slideshow": {
     "slide_type": "subslide"
    }
   },
   "source": [
    "#### With scalar values"
   ]
  },
  {
   "cell_type": "code",
   "execution_count": 70,
   "metadata": {
    "ExecuteTime": {
     "end_time": "2016-05-03T20:33:48.059945",
     "start_time": "2016-05-03T20:33:48.052332"
    },
    "collapsed": true,
    "slideshow": {
     "slide_type": "fragment"
    }
   },
   "outputs": [],
   "source": [
    "doubledata = data * 2.0"
   ]
  },
  {
   "cell_type": "code",
   "execution_count": 73,
   "metadata": {
    "ExecuteTime": {
     "end_time": "2016-05-03T20:33:48.552393",
     "start_time": "2016-05-03T20:33:48.542556"
    },
    "collapsed": false,
    "slideshow": {
     "slide_type": "fragment"
    }
   },
   "outputs": [
    {
     "name": "stdout",
     "output_type": "stream",
     "text": [
      "[[ 4.  6.  0.  0.]\n",
      " [ 2.  2.  0.  2.]\n",
      " [ 4.  4.  2.  2.]]\n"
     ]
    }
   ],
   "source": [
    "print(doubledata[:3, 36:])"
   ]
  },
  {
   "cell_type": "markdown",
   "metadata": {},
   "source": [
    "#### With other arrays"
   ]
  },
  {
   "cell_type": "markdown",
   "metadata": {
    "slideshow": {
     "slide_type": "notes"
    }
   },
   "source": [
    "If, instead of taking an array and doing arithmetic with a single value (as above) you did the arithmetic operation with another array of the same shape, the operation will be done on corresponding elements of the two arrays.\n",
    "\n",
    "Thus:"
   ]
  },
  {
   "cell_type": "code",
   "execution_count": 74,
   "metadata": {
    "ExecuteTime": {
     "end_time": "2016-05-03T20:33:57.294762",
     "start_time": "2016-05-03T20:33:57.285908"
    },
    "collapsed": false,
    "slideshow": {
     "slide_type": "fragment"
    }
   },
   "outputs": [
    {
     "data": {
      "text/plain": [
       "array([[ 6.,  9.,  0.,  0.],\n",
       "       [ 3.,  3.,  0.,  3.],\n",
       "       [ 6.,  6.,  3.,  3.]])"
      ]
     },
     "execution_count": 74,
     "metadata": {},
     "output_type": "execute_result"
    }
   ],
   "source": [
    "tripledata = doubledata + data\n",
    "tripledata[:3, 36:]"
   ]
  },
  {
   "cell_type": "markdown",
   "metadata": {
    "slideshow": {
     "slide_type": "subslide"
    }
   },
   "source": [
    "### Other operations\n",
    "\n",
    "Other more complex operations"
   ]
  },
  {
   "cell_type": "markdown",
   "metadata": {
    "slideshow": {
     "slide_type": "notes"
    }
   },
   "source": [
    "Often, we want to do more than add, subtract, multiply, and divide values of data.\n",
    "\n",
    "Arrays also know how to do more complex operations on their values.\n",
    "\n",
    "If we want to find the average inflammation for all patients on all days, for example, we can just ask the array for its mean value"
   ]
  },
  {
   "cell_type": "code",
   "execution_count": null,
   "metadata": {
    "ExecuteTime": {
     "end_time": "2016-05-03T20:39:06.077994",
     "start_time": "2016-05-03T20:39:06.068873"
    },
    "collapsed": false,
    "slideshow": {
     "slide_type": "fragment"
    }
   },
   "outputs": [],
   "source": [
    "print(data.mean())"
   ]
  },
  {
   "cell_type": "markdown",
   "metadata": {
    "slideshow": {
     "slide_type": "fragment"
    }
   },
   "source": [
    "`mean` is a [method](reference.html#method) of the array,\n",
    "i.e., a function that belongs to it in the same way that the member `shape` does."
   ]
  },
  {
   "cell_type": "markdown",
   "metadata": {
    "slideshow": {
     "slide_type": "notes"
    }
   },
   "source": [
    "`mean` is a [method](reference.html#method) of the array,\n",
    "i.e., a function that belongs to it in the same way that the member `shape` does.\n",
    "\n",
    "If variables are nouns, methods are verbs:\n",
    "they are what the thing in question knows how to do.\n",
    "\n",
    "We need empty parentheses for `data.mean()`, even when we're not passing in any parameters, to tell Python to go and do something for us. `data.shape` doesn't need `()` because it is just a description but `data.mean()`  requires the `()` because it is an action."
   ]
  },
  {
   "cell_type": "markdown",
   "metadata": {
    "slideshow": {
     "slide_type": "subslide"
    }
   },
   "source": [
    "#### NumPy arrays have lots of useful methods:"
   ]
  },
  {
   "cell_type": "code",
   "execution_count": null,
   "metadata": {
    "ExecuteTime": {
     "end_time": "2016-05-03T20:42:57.963733",
     "start_time": "2016-05-03T20:42:57.951966"
    },
    "collapsed": false,
    "slideshow": {
     "slide_type": "fragment"
    }
   },
   "outputs": [],
   "source": [
    "print('maximum inflammation:', data.max())\n",
    "print('minimum inflammation:', data.min())\n",
    "print('standard deviation:', data.std())"
   ]
  },
  {
   "cell_type": "code",
   "execution_count": null,
   "metadata": {
    "ExecuteTime": {
     "end_time": "2016-05-03T20:44:29.659382",
     "start_time": "2016-05-03T20:44:29.651567"
    },
    "collapsed": false,
    "slideshow": {
     "slide_type": "subslide"
    }
   },
   "outputs": [],
   "source": [
    "patient_0 = data[0, :] # 0 on the first axis, everything on the second\n",
    "print('max inflammation for patient 0:', patient_0.max())"
   ]
  },
  {
   "cell_type": "markdown",
   "metadata": {
    "slideshow": {
     "slide_type": "notes"
    }
   },
   "source": [
    "We don't actually need to store the row in a variable of its own.\n",
    "\n",
    "Instead, we can combine the selection and the method call:"
   ]
  },
  {
   "cell_type": "markdown",
   "metadata": {
    "slideshow": {
     "slide_type": "fragment"
    }
   },
   "source": [
    "We don't actually need to store the row in a variable of its own."
   ]
  },
  {
   "cell_type": "code",
   "execution_count": null,
   "metadata": {
    "collapsed": true,
    "slideshow": {
     "slide_type": "fragment"
    }
   },
   "outputs": [],
   "source": [
    "print('max inflammation for patient 0:', data[0, :].max())"
   ]
  },
  {
   "cell_type": "markdown",
   "metadata": {
    "slideshow": {
     "slide_type": "notes"
    }
   },
   "source": [
    "When analyzing data, though, we often want to look at partial statistics, such as the maximum value per patient\n",
    "or the average value per day.\n",
    "\n",
    "One way to do this is to create a new temporary array of the data we want, then ask it to do the calculation:"
   ]
  },
  {
   "cell_type": "markdown",
   "metadata": {
    "slideshow": {
     "slide_type": "subslide"
    }
   },
   "source": [
    "### The `axis` argument\n",
    "\n",
    "What if we need the maximum inflammation for all patients?"
   ]
  },
  {
   "cell_type": "markdown",
   "metadata": {
    "slideshow": {
     "slide_type": "notes"
    }
   },
   "source": [
    "What if we need the maximum inflammation for *all* patients (as in the next diagram on the left), or the average for each day (as in the\n",
    "diagram on the right)? \n",
    "\n",
    "As the diagram below shows, we want to perform the\n",
    "operation across an axis:"
   ]
  },
  {
   "cell_type": "markdown",
   "metadata": {
    "ExecuteTime": {
     "end_time": "2016-05-03T20:46:44.756831",
     "start_time": "2016-05-03T20:46:44.635485"
    },
    "slideshow": {
     "slide_type": "fragment"
    }
   },
   "source": [
    "![Operations Across Axes](fig/python-operations-across-axes.svg)"
   ]
  },
  {
   "cell_type": "markdown",
   "metadata": {
    "ExecuteTime": {
     "end_time": "2016-05-03T20:48:53.214419",
     "start_time": "2016-05-03T20:48:53.205236"
    },
    "slideshow": {
     "slide_type": "notes"
    }
   },
   "source": [
    "To support this, most array methods allow us to specify the axis we want to work on.\n",
    "If we ask for the average across axis 0 (rows in our 2D example), we get:"
   ]
  },
  {
   "cell_type": "markdown",
   "metadata": {
    "slideshow": {
     "slide_type": "subslide"
    }
   },
   "source": [
    "If we ask for the average across axis 0, we get:"
   ]
  },
  {
   "cell_type": "code",
   "execution_count": null,
   "metadata": {
    "ExecuteTime": {
     "end_time": "2016-05-03T20:50:16.995719",
     "start_time": "2016-05-03T20:50:16.987014"
    },
    "collapsed": false,
    "slideshow": {
     "slide_type": "fragment"
    }
   },
   "outputs": [],
   "source": [
    "print(data.mean(axis=0))"
   ]
  },
  {
   "cell_type": "markdown",
   "metadata": {
    "ExecuteTime": {
     "end_time": "2016-05-03T20:55:11.867118",
     "start_time": "2016-05-03T20:55:11.859146"
    },
    "slideshow": {
     "slide_type": "subslide"
    }
   },
   "source": [
    "As a quick check, we can ask this array what its shape is:"
   ]
  },
  {
   "cell_type": "code",
   "execution_count": null,
   "metadata": {
    "ExecuteTime": {
     "end_time": "2016-05-03T21:32:26.056002",
     "start_time": "2016-05-03T21:32:26.046434"
    },
    "collapsed": false,
    "slideshow": {
     "slide_type": "fragment"
    }
   },
   "outputs": [],
   "source": [
    "print(data.mean(axis=0).shape)"
   ]
  },
  {
   "cell_type": "markdown",
   "metadata": {
    "slideshow": {
     "slide_type": "fragment"
    }
   },
   "source": [
    "the average inflammation per day for all patients."
   ]
  },
  {
   "cell_type": "markdown",
   "metadata": {
    "slideshow": {
     "slide_type": "notes"
    }
   },
   "source": [
    "The expression `(40,)` tells us we have an N&times;1 vector,\n",
    "so this is the average inflammation per day for all patients.\n",
    "\n",
    "If we average across axis 1 (columns in our 2D example), we get:"
   ]
  },
  {
   "cell_type": "code",
   "execution_count": null,
   "metadata": {
    "ExecuteTime": {
     "end_time": "2016-05-03T21:34:26.716927",
     "start_time": "2016-05-03T21:34:26.707494"
    },
    "collapsed": false,
    "slideshow": {
     "slide_type": "fragment"
    }
   },
   "outputs": [],
   "source": [
    "print(data.mean(axis=1))"
   ]
  },
  {
   "cell_type": "markdown",
   "metadata": {
    "slideshow": {
     "slide_type": "fragment"
    }
   },
   "source": [
    "which is the average inflammation per patient across all days."
   ]
  },
  {
   "cell_type": "code",
   "execution_count": null,
   "metadata": {
    "ExecuteTime": {
     "end_time": "2016-05-04T23:46:51.941806",
     "start_time": "2016-05-04T23:46:51.835270"
    },
    "collapsed": false,
    "slideshow": {
     "slide_type": "fragment"
    }
   },
   "outputs": [],
   "source": [
    "data.mean(axis=1).shape"
   ]
  },
  {
   "cell_type": "markdown",
   "metadata": {
    "slideshow": {
     "slide_type": "subslide"
    }
   },
   "source": [
    "### Plotting with Matplotlib\n",
    "\n",
    "*\"The purpose of computing is insight, not numbers.\"* Richard Hamming"
   ]
  },
  {
   "cell_type": "markdown",
   "metadata": {
    "slideshow": {
     "slide_type": "notes"
    }
   },
   "source": [
    "The mathematician Richard Hamming once said,\n",
    "\"The purpose of computing is insight, not numbers,\"\n",
    "and the best way to develop insight is often to visualize data.\n",
    "\n",
    "Visualization deserves an entire lecture (or course) of its own, but we can explore a few features of Python's `matplotlib` library here.\n",
    "\n",
    "While there is no \"official\" plotting library,\n",
    "this package is the de facto standard.\n",
    "\n",
    "First, we will import the `pyplot` module from `matplotlib` and use two of its functions to create and display a heat map of our data:"
   ]
  },
  {
   "cell_type": "code",
   "execution_count": null,
   "metadata": {
    "ExecuteTime": {
     "end_time": "2016-05-05T21:21:27.085162",
     "start_time": "2016-05-05T21:21:11.265157"
    },
    "collapsed": true,
    "slideshow": {
     "slide_type": "fragment"
    }
   },
   "outputs": [],
   "source": [
    "import matplotlib.pyplot\n",
    "image  = matplotlib.pyplot.imshow(data)\n",
    "matplotlib.pyplot.show()"
   ]
  },
  {
   "cell_type": "markdown",
   "metadata": {
    "slideshow": {
     "slide_type": "subslide"
    }
   },
   "source": [
    "#### Some Jupyter magic..."
   ]
  },
  {
   "cell_type": "markdown",
   "metadata": {
    "slideshow": {
     "slide_type": "notes"
    }
   },
   "source": [
    "## Some IPython magic\n",
    "\n",
    "If you're using an IPython / Jupyter notebook,\n",
    "you'll need to execute the following command\n",
    "in order for your matplotlib images to appear\n",
    "in the notebook when `show()` is called:\n",
    "\n",
    "> ~~~ {.python}\n",
    "> % matplotlib inline\n",
    "> ~~~"
   ]
  },
  {
   "cell_type": "code",
   "execution_count": null,
   "metadata": {
    "ExecuteTime": {
     "end_time": "2016-05-05T21:22:36.343226",
     "start_time": "2016-05-05T21:22:36.325858"
    },
    "collapsed": true,
    "slideshow": {
     "slide_type": "fragment"
    }
   },
   "outputs": [],
   "source": [
    "%matplotlib inline"
   ]
  },
  {
   "cell_type": "markdown",
   "metadata": {
    "slideshow": {
     "slide_type": "notes"
    }
   },
   "source": [
    "> The `%` indicates an IPython magic function -\n",
    "> a function that is only valid within the notebook environment.\n",
    "> Note that you only have to execute this function once per notebook."
   ]
  },
  {
   "cell_type": "code",
   "execution_count": null,
   "metadata": {
    "ExecuteTime": {
     "end_time": "2016-05-05T21:22:40.833251",
     "start_time": "2016-05-05T21:22:40.622228"
    },
    "collapsed": false,
    "slideshow": {
     "slide_type": "fragment"
    }
   },
   "outputs": [],
   "source": [
    "import matplotlib.pyplot\n",
    "image  = matplotlib.pyplot.imshow(data)\n",
    "matplotlib.pyplot.show()"
   ]
  },
  {
   "cell_type": "code",
   "execution_count": null,
   "metadata": {
    "collapsed": false,
    "slideshow": {
     "slide_type": "subslide"
    }
   },
   "outputs": [],
   "source": [
    "#Let's take a look at the average inflammation over time:\n",
    "\n",
    "ave_inflammation = data.mean(axis=0)\n",
    "ave_plot = matplotlib.pyplot.plot(ave_inflammation)\n",
    "matplotlib.pyplot.show()"
   ]
  },
  {
   "cell_type": "code",
   "execution_count": null,
   "metadata": {
    "collapsed": false,
    "slideshow": {
     "slide_type": "subslide"
    }
   },
   "outputs": [],
   "source": [
    "#Let's have a look at two other statistics:\n",
    "\n",
    "max_plot = matplotlib.pyplot.plot(data.max(axis=0))\n",
    "matplotlib.pyplot.show()"
   ]
  },
  {
   "cell_type": "code",
   "execution_count": null,
   "metadata": {
    "collapsed": false,
    "slideshow": {
     "slide_type": "fragment"
    }
   },
   "outputs": [],
   "source": [
    "min_plot = matplotlib.pyplot.plot(data.min(axis=0))\n",
    "matplotlib.pyplot.show()"
   ]
  },
  {
   "cell_type": "markdown",
   "metadata": {
    "slideshow": {
     "slide_type": "subslide"
    }
   },
   "source": [
    "You can group similar plots in a single figure using subplots."
   ]
  },
  {
   "cell_type": "code",
   "execution_count": null,
   "metadata": {
    "collapsed": false,
    "slideshow": {
     "slide_type": "fragment"
    }
   },
   "outputs": [],
   "source": [
    "import numpy\n",
    "import matplotlib.pyplot\n",
    "\n",
    "data = numpy.loadtxt(fname='data/inflammation-01.csv', delimiter=',')\n",
    "\n",
    "fig = matplotlib.pyplot.figure(figsize=(10.0, 3.0))\n",
    "\n",
    "axes1 = fig.add_subplot(1, 3, 1)\n",
    "axes2 = fig.add_subplot(1, 3, 2)\n",
    "axes3 = fig.add_subplot(1, 3, 3)\n",
    "\n",
    "axes1.set_ylabel('average')\n",
    "axes1.plot(data.mean(axis=0))\n",
    "\n",
    "axes2.set_ylabel('max')\n",
    "axes2.plot(data.max(axis=0))\n",
    "\n",
    "axes3.set_ylabel('min')\n",
    "axes3.plot(data.min(axis=0))\n",
    "\n",
    "fig.tight_layout()\n",
    "\n",
    "matplotlib.pyplot.show()"
   ]
  },
  {
   "cell_type": "markdown",
   "metadata": {
    "slideshow": {
     "slide_type": "subslide"
    }
   },
   "source": [
    "![The Previous Plots as Subplots](fig/01-numpy_80_0.png)"
   ]
  },
  {
   "cell_type": "markdown",
   "metadata": {
    "slideshow": {
     "slide_type": "notes"
    }
   },
   "source": [
    "Let's take a look at the average inflammation over time:\n",
    "\n",
    "~~~ {.python}\n",
    "ave_inflammation = data.mean(axis=0)\n",
    "ave_plot = matplotlib.pyplot.plot(ave_inflammation)\n",
    "matplotlib.pyplot.show()\n",
    "~~~\n",
    "\n",
    "![Average Inflammation Over Time](fig/01-numpy_73_0.png)\n",
    "\n",
    "Here,\n",
    "we have put the average per day across all patients in the variable `ave_inflammation`,\n",
    "then asked `matplotlib.pyplot` to create and display a line graph of those values.\n",
    "The result is roughly a linear rise and fall,\n",
    "which is suspicious:\n",
    "based on other studies,\n",
    "we expect a sharper rise and slower fall.\n",
    "Let's have a look at two other statistics:\n",
    "\n",
    "~~~ {.python}\n",
    "max_plot = matplotlib.pyplot.plot(data.max(axis=0))\n",
    "matplotlib.pyplot.show()\n",
    "~~~\n",
    "\n",
    "![Maximum Value Along The First Axis](fig/01-numpy_75_1.png)\n",
    "\n",
    "~~~ {.python}\n",
    "min_plot = matplotlib.pyplot.plot(data.min(axis=0))\n",
    "matplotlib.pyplot.show()\n",
    "~~~\n",
    "\n",
    "![Minimum Value Along The First Axis](fig/01-numpy_75_3.png)\n",
    "\n",
    "The maximum value rises and falls perfectly smoothly,\n",
    "while the minimum seems to be a step function.\n",
    "Neither result seems particularly likely,\n",
    "so either there's a mistake in our calculations\n",
    "or something is wrong with our data.\n",
    "\n",
    "You can group similar plots in a single figure using subplots.\n",
    "This script below uses a number of new commands. The function `matplotlib.pyplot.figure()`\n",
    "creates a space into which we will place all of our plots. The parameter `figsize`\n",
    "tells Python how big to make this space. Each subplot is placed into the figure using\n",
    "its `add_subplot` method. The `add_subplot` method takes 3 parameters. The first denotes\n",
    "how many total rows of subplots there are, the second parameter refers to the\n",
    "total number of subplot columns, and the final parameters denotes which subplot\n",
    "your variable is referencing (left-to-right, top-to-bottom). Each subplot is stored in a\n",
    "different variable (`axes1`, `axes2`, `axes3`). Once a subplot is created, the axes can\n",
    "be titled using the `set_xlabel()` command (or `set_ylabel()`).\n",
    "Here are our three plots side by side:\n",
    "\n",
    "~~~ {.python}\n",
    "import numpy\n",
    "import matplotlib.pyplot\n",
    "\n",
    "data = numpy.loadtxt(fname='inflammation-01.csv', delimiter=',')\n",
    "\n",
    "fig = matplotlib.pyplot.figure(figsize=(10.0, 3.0))\n",
    "\n",
    "axes1 = fig.add_subplot(1, 3, 1)\n",
    "axes2 = fig.add_subplot(1, 3, 2)\n",
    "axes3 = fig.add_subplot(1, 3, 3)\n",
    "\n",
    "axes1.set_ylabel('average')\n",
    "axes1.plot(data.mean(axis=0))\n",
    "\n",
    "axes2.set_ylabel('max')\n",
    "axes2.plot(data.max(axis=0))\n",
    "\n",
    "axes3.set_ylabel('min')\n",
    "axes3.plot(data.min(axis=0))\n",
    "\n",
    "fig.tight_layout()\n",
    "\n",
    "matplotlib.pyplot.show()\n",
    "~~~\n",
    "\n",
    "![The Previous Plots as Subplots](fig/01-numpy_80_0.png)\n",
    "\n",
    "The [call](reference.html#function-call) to `loadtxt` reads our data,\n",
    "and the rest of the program tells the plotting library\n",
    "how large we want the figure to be,\n",
    "that we're creating three subplots,\n",
    "what to draw for each one,\n",
    "and that we want a tight layout.\n",
    "(Perversely,\n",
    "if we leave out that call to `fig.tight_layout()`,\n",
    "the graphs will actually be squeezed together more closely.)"
   ]
  },
  {
   "cell_type": "markdown",
   "metadata": {
    "slideshow": {
     "slide_type": "slide"
    }
   },
   "source": [
    "> ## Check your understanding: plot scaling {.challenge}\n",
    ">\n",
    "> Why do all of our plots stop just short of the upper end of our graph?"
   ]
  },
  {
   "cell_type": "code",
   "execution_count": null,
   "metadata": {
    "collapsed": true,
    "slideshow": {
     "slide_type": "slide"
    }
   },
   "outputs": [],
   "source": []
  },
  {
   "cell_type": "markdown",
   "metadata": {
    "slideshow": {
     "slide_type": "subslide"
    }
   },
   "source": [
    "> ## Check your understanding: drawing straight lines {.challenge}\n",
    ">\n",
    "> Why are the vertical lines in our plot of the minimum inflammation per day not perfectly vertical?"
   ]
  },
  {
   "cell_type": "code",
   "execution_count": null,
   "metadata": {
    "collapsed": true,
    "slideshow": {
     "slide_type": "subslide"
    }
   },
   "outputs": [],
   "source": []
  },
  {
   "cell_type": "markdown",
   "metadata": {
    "slideshow": {
     "slide_type": "subslide"
    }
   },
   "source": [
    "> ## Make your own plot {.challenge}\n",
    ">\n",
    "> Create a plot showing the standard deviation (`numpy.std`) of the inflammation data for each day across all patients."
   ]
  },
  {
   "cell_type": "code",
   "execution_count": null,
   "metadata": {
    "collapsed": true,
    "slideshow": {
     "slide_type": "subslide"
    }
   },
   "outputs": [],
   "source": []
  },
  {
   "cell_type": "markdown",
   "metadata": {
    "slideshow": {
     "slide_type": "subslide"
    }
   },
   "source": [
    "> ## Moving plots around {.challenge}\n",
    ">\n",
    "> Modify the program to display the three plots on top of one another instead of side by side."
   ]
  },
  {
   "cell_type": "code",
   "execution_count": null,
   "metadata": {
    "collapsed": true,
    "slideshow": {
     "slide_type": "subslide"
    }
   },
   "outputs": [],
   "source": [
    "import numpy\n",
    "import matplotlib.pyplot\n",
    "\n",
    "data = numpy.loadtxt(fname='data/inflammation-01.csv', delimiter=',')\n",
    "\n",
    "fig = matplotlib.pyplot.figure(figsize=(10.0, 3.0))\n",
    "\n",
    "axes1 = fig.add_subplot(1, 3, 1)\n",
    "axes2 = fig.add_subplot(1, 3, 2)\n",
    "axes3 = fig.add_subplot(1, 3, 3)\n",
    "\n",
    "axes1.set_ylabel('average')\n",
    "axes1.plot(data.mean(axis=0))\n",
    "\n",
    "axes2.set_ylabel('max')\n",
    "axes2.plot(data.max(axis=0))\n",
    "\n",
    "axes3.set_ylabel('min')\n",
    "axes3.plot(data.min(axis=0))\n",
    "\n",
    "fig.tight_layout()\n",
    "\n",
    "matplotlib.pyplot.show()"
   ]
  },
  {
   "cell_type": "markdown",
   "metadata": {
    "slideshow": {
     "slide_type": "notes"
    }
   },
   "source": [
    "> ## Check your understanding: plot scaling {.challenge}\n",
    ">\n",
    "> Why do all of our plots stop just short of the upper end of our graph?\n",
    "\n",
    "> ## Check your understanding: drawing straight lines {.challenge}\n",
    ">\n",
    "> Why are the vertical lines in our plot of the minimum inflammation per day not perfectly vertical?\n",
    "\n",
    "> ## Make your own plot {.challenge}\n",
    ">\n",
    "> Create a plot showing the standard deviation (`numpy.std`) of the inflammation data for each day across all patients.\n",
    "\n",
    "> ## Moving plots around {.challenge}\n",
    ">\n",
    "> Modify the program to display the three plots on top of one another instead of side by side."
   ]
  }
 ],
 "metadata": {
  "celltoolbar": "Slideshow",
  "kernelspec": {
   "display_name": "Python 3",
   "language": "python",
   "name": "python3"
  },
  "language_info": {
   "codemirror_mode": {
    "name": "ipython",
    "version": 3
   },
   "file_extension": ".py",
   "mimetype": "text/x-python",
   "name": "python",
   "nbconvert_exporter": "python",
   "pygments_lexer": "ipython3",
   "version": "3.5.1"
  },
  "latex_envs": {
   "bibliofile": "biblio.bib",
   "cite_by": "apalike",
   "current_citInitial": 1,
   "eqLabelWithNumbers": true,
   "eqNumInitial": 0
  },
  "toc": {
   "toc_cell": false,
   "toc_number_sections": false,
   "toc_section_display": "none",
   "toc_threshold": 6,
   "toc_window_display": true
  },
  "toc_position": {
   "height": "310px",
   "left": "1081.85px",
   "right": "10.15px",
   "top": "18px",
   "width": "188px"
  }
 },
 "nbformat": 4,
 "nbformat_minor": 0
}
